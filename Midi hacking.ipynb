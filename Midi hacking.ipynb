{
 "cells": [
  {
   "cell_type": "markdown",
   "metadata": {},
   "source": [
    "# MIDI hacking with mido\n",
    "## Alesis QS6 programming\n",
    "\n",
    "I'll use mido to write live sysex commands. The program edit format for Alesis QS6 is determined by bytes formed from bits as follows:\n",
    "\n",
    "    F0 00 00 0E 0E 10 <0mmfffff> <0ssppppp> <0ccccddv> <0vvvvvvv> F7\n",
    "\n",
    "    <mm>       = 0=Global, 1=Mix, 2=Program, 3=Effects\n",
    "    <fffff>    = Function number 0 through 16, depending on mode\n",
    "    <ss>       = Sound 1-4 (0-3) when <mm>=2, effect bus 1-4 (0-3) when <mm>=3\n",
    "    <ppppp>    = Page 0 through 23, depending on mode and function\n",
    "    <cccc>     = Channel 1 through 16 (0-15); Ignored unless in mix mode & <mm>=1 or 2\n",
    "    <dd>       = Data entry pot number 1-4 (0-3)\n",
    "    <vvvvvvvv> = Parameter value, 8 bit 2’s complement\n",
    "\n",
    "All parameters to be edited must be sent in this format (12 MIDI bytes), regardless of the number of bits required to transmit the value of the parameter.  When the QS receives this message, it will edit the specified parameter to the new value and display it.  If the function and page selected does not exist in the current configuration, the command will cause the nearest legal function, page, and parameter to be selected, but no edit will occur.  If a Mix edit is sent while in program mode, it will be ignored.  If this command is received while in compare, it will be ignored.  If a program edit command is received, it will place the QS in Edit mode.  If the value received is out of range for the parameter selected, the range will be limited to the nearest legal value.  The function and page numbers for each parameter are shown in the next section.\n"
   ]
  },
  {
   "cell_type": "code",
   "execution_count": 1,
   "metadata": {
    "collapsed": true
   },
   "outputs": [],
   "source": [
    "import mido"
   ]
  },
  {
   "cell_type": "code",
   "execution_count": 12,
   "metadata": {
    "collapsed": true
   },
   "outputs": [],
   "source": [
    "msg = mido.Message('sysex')"
   ]
  },
  {
   "cell_type": "code",
   "execution_count": 230,
   "metadata": {
    "collapsed": true
   },
   "outputs": [],
   "source": [
    "# Set \n",
    "msg.data = [0x00,0x00,0x0E,0x0E,0x10]  # The first portion says: do a program parameter edit\n",
    "msg.data += [0b01000001,  # 0mm is 010 for program edit, fffff is 00001 for function 1 (level)\n",
    "             0b00000000,  # 0ss is 00 for sound 1, ppppp is 00000 for page 0\n",
    "             0b00000000,  # 0cccc is 0000, ignored in pgm mode, dd is 00 for data0, \n",
    "             0b00000001]  # vvvvvvvv is 00000001 for 1"
   ]
  },
  {
   "cell_type": "code",
   "execution_count": 231,
   "metadata": {
    "collapsed": false
   },
   "outputs": [
    {
     "data": {
      "text/plain": [
       "'F0 00 00 0E 0E 10 41 00 10 01 F7'"
      ]
     },
     "execution_count": 231,
     "metadata": {},
     "output_type": "execute_result"
    }
   ],
   "source": [
    "msg.hex()"
   ]
  },
  {
   "cell_type": "code",
   "execution_count": 8,
   "metadata": {
    "collapsed": true
   },
   "outputs": [],
   "source": [
    "outport = mido.open_output(\"Alesis QS6\")"
   ]
  },
  {
   "cell_type": "code",
   "execution_count": 9,
   "metadata": {
    "collapsed": true
   },
   "outputs": [],
   "source": [
    "outport.send(msg)"
   ]
  },
  {
   "cell_type": "code",
   "execution_count": 276,
   "metadata": {
    "collapsed": false
   },
   "outputs": [],
   "source": [
    "# Set \n",
    "msg.data = [0x00,0x00,0x0E,0x0E,0x10]  # The first portion says: do a program parameter edit\n",
    "msg.data += [0b01001110,  # 0mm is 010 for program edit, fffff is 01110 for AENV\n",
    "             0b00000000,  # 0ss is 00 for sound 1, ppppp is 00000 for page 0\n",
    "             0b00000000,  # 0cccc is 0000, ignored in pgm mode, dd is 00 for data0, last bit is v!\n",
    "             89]  # vvvvvvvv is 00000001 for 1"
   ]
  },
  {
   "cell_type": "code",
   "execution_count": null,
   "metadata": {
    "collapsed": true
   },
   "outputs": [],
   "source": [
    "aenv_"
   ]
  },
  {
   "cell_type": "code",
   "execution_count": 277,
   "metadata": {
    "collapsed": true
   },
   "outputs": [],
   "source": [
    "outport.send(msg)"
   ]
  },
  {
   "cell_type": "markdown",
   "metadata": {},
   "source": [
    "    fffff Functions (page 0)\n",
    "    00000  0 = Sound Grp (p3 Voice)\n",
    "    00001  1 = Sound Volume (p1 Level)\n",
    "    00010  2 = Effect Level (p4 Level)\n",
    "    00011  3 = Semitone (p1 Pitch)\n",
    "    00100  4 = Filter Freq (p1 Filter)\n",
    "    00101  5 = Vel Curv (p1 amp/range)\n",
    "    00110  6 = LO lim (p4 amp/range)\n",
    "    00111  7 = MOD1SRC (p1 MOD1)\n",
    "    01000  8 = Name (p1 Name)\n",
    "    01001  9 = PLFO (p1 Pitch LFO)\n",
    "    01010  10 = FLFO (p1 Filter LFO)\n",
    "    01011  11 = ALFO (p1 Amp LFO)\n",
    "    01100  12 = PENV Attack (p1 pitch env)\n",
    "    01101  13 = FENV Attack (p1 filter env)\n",
    "    01110  14 = AENV Attack (p1 amp env)\n",
    "    01111  15 = TrackIN (p1 Track gen)\n",
    "    10000  16 = Sound Type (p2 Voice)\n",
    "    \n",
    "Map to program table is located on page 14 of the SysEx guide.\n",
    "\n",
    "I'm most interested in tweaking the envelopes in real time, so starting with AENV:\n",
    "\n",
    "                                       Func Pg  Pot Off Lim bit bit address\n",
    "    98.     Sound amp env attack        14  0   0   0   99  7   68:2-67:4\n",
    "    99.     Sound amp env decay         14  0   1   0   99  7   69:1-68:3\n",
    "    100.    Sound amp env sustain       14  0   2   0   99  7   70:0-69:2\n",
    "    101.    Sound amp env release       14  0   3   0   99  7   70:7-70:1\n",
    "    102.    Sound amp env delay         14  1   0   0   100 7   71:6-71:0\n",
    "    103.    Sound amp env sustain decay 14  1   1   0   99  7   72:5-71:7\n",
    "    104.    Sound amp env trig type     14  1   3   0   3   2   72:7-72:6\n",
    "    105.    Sound amp env time track    14  2   0   0   1   1   73:0\n",
    "    106.    Sound amp env sustain pedal 14  2   1   0   1   1   73:1\n",
    "    107.    Sound amp env level         14  2   2   0   99  7   74:0-73:2\n",
    "\n"
   ]
  },
  {
   "cell_type": "code",
   "execution_count": 295,
   "metadata": {
    "collapsed": false
   },
   "outputs": [],
   "source": [
    "alesis_pgm_edit = [0x00,0x00,0x0E,0x0E,0x10]\n",
    "aenv_attack = alesis_pgm_edit + [0b01001110,  # 0mm is 010 for program edit, fffff is 01110 for AENV\n",
    "                                 0b00000000,  # 0ss is 00 for sound 1, ppppp is 00000 for page 0\n",
    "                                 0b00000000] + [50] # 0cccc is 0000, ignored in pgm mode, dd is 00 for pot0\n",
    "aenv_decay = alesis_pgm_edit + [0b01001110,  # 0mm is 010 for program edit, fffff is 01110 for AENV\n",
    "                                0b00000000,  # 0ss is 00 for sound 1, ppppp is 00000 for page 0\n",
    "                                0b00000010] + [50] # 0cccc is 0000, ignored in pgm mode, dd is 01 for pot1\n",
    "aenv_sustain = alesis_pgm_edit + [0b01001110,  # 0mm is 010 for program edit, fffff is 01110 for AENV\n",
    "                                0b00000000,  # 0ss is 00 for sound 1, ppppp is 00000 for page 0\n",
    "                                0b00000100] + [50] # 0cccc is 0000, ignored in pgm mode, dd is 10 for pot2\n",
    "aenv_release = alesis_pgm_edit + [0b01001110,  # 0mm is 010 for program edit, fffff is 01110 for AENV\n",
    "                                0b00000000,  # 0ss is 00 for sound 1, ppppp is 00000 for page 0\n",
    "                                0b00000110] + [50] # 0cccc is 0000, ignored in pgm mode, dd is 11 for pot3\n",
    "aenv_delay = alesis_pgm_edit + [0b01001110,  # 0mm is 010 for program edit, fffff is 01110 for AENV\n",
    "                                0b00000001,  # 0ss is 00 for sound 1, ppppp is 00001 for page 1\n",
    "                                0b00000000] + [50] # 0cccc is 0000, ignored in pgm mode, dd is 00 for pot0\n",
    "aenv_susdecay = alesis_pgm_edit + [0b01001110,  # 0mm is 010 for program edit, fffff is 01110 for AENV\n",
    "                                0b00000001,  # 0ss is 00 for sound 1, ppppp is 00001 for page 1\n",
    "                                0b00000010] + [50] # 0cccc is 0000, ignored in pgm mode, dd is 01 for pot1"
   ]
  },
  {
   "cell_type": "code",
   "execution_count": 302,
   "metadata": {
    "collapsed": false
   },
   "outputs": [
    {
     "data": {
      "text/plain": [
       "'F0 00 00 0E 0E 10 4E 00 04 32 F7'"
      ]
     },
     "execution_count": 302,
     "metadata": {},
     "output_type": "execute_result"
    }
   ],
   "source": [
    "msg.data = aenv_sustain\n",
    "msg.hex()"
   ]
  },
  {
   "cell_type": "code",
   "execution_count": 303,
   "metadata": {
    "collapsed": true
   },
   "outputs": [],
   "source": [
    "outport.send(msg)"
   ]
  },
  {
   "cell_type": "code",
   "execution_count": null,
   "metadata": {
    "collapsed": true
   },
   "outputs": [],
   "source": []
  },
  {
   "cell_type": "code",
   "execution_count": null,
   "metadata": {
    "collapsed": true
   },
   "outputs": [],
   "source": []
  }
 ],
 "metadata": {
  "kernelspec": {
   "display_name": "Python 3",
   "language": "python",
   "name": "python3"
  },
  "language_info": {
   "codemirror_mode": {
    "name": "ipython",
    "version": 3
   },
   "file_extension": ".py",
   "mimetype": "text/x-python",
   "name": "python",
   "nbconvert_exporter": "python",
   "pygments_lexer": "ipython3",
   "version": "3.5.1"
  }
 },
 "nbformat": 4,
 "nbformat_minor": 0
}
